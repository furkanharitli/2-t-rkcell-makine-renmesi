{
 "cells": [
  {
   "cell_type": "markdown",
   "metadata": {},
   "source": [
    "# Clasification And Regresion Three\n",
    "* Türkçesi sınıflandırma ve regresyon ağcıdır \n",
    "* AMAÇ: Veri seti içindeki karmaşık yapıları basit karar yapılarına çevirmektir heterojen veri setleri homojen alt setlere ayrılır\n",
    "* Regresyon problemlerinde kullanılailen gözetimli yöntemlerdendir\n",
    "* diğer yöntemlere kıyasla karar ağacının yapılandırılması anlamlandırılması daha kolaydır\n",
    "* ağaca dayalı yöntemlerin babasıdır\n",
    "* Büyük veri setlerinde overfitting e eğilimlidir\n",
    "* Dallardan yapraklara en saf en ortalama atanır"
   ]
  },
  {
   "cell_type": "code",
   "execution_count": null,
   "metadata": {},
   "outputs": [],
   "source": [
    "import numpy as np\n",
    "import pandas as pd\n",
    "import matplotlib.pyplot as plt\n",
    "from sklearn.model_selection import train_test_split,GridSearchCV\n",
    "from sklearn.metrics import mean_squared_error\n",
    "from sklearn.preprocessing import scale\n",
    "from sklearn.preprocessing import StandardScaler\n",
    "from sklearn import model_selection\n",
    "from sklearn.linear_model import LinearRegression\n",
    "from sklearn.tree import DecisionTreeRegressor\n",
    "from sklearn.neighbors import KNeighborsRegressor\n",
    "from sklearn.neural_network import MLPRegressor\n",
    "from sklearn.ensemble import RandomForestRegressor\n",
    "from sklearn.ensemble import GradientBoostingClassifier\n",
    "from sklearn import neighbors\n",
    "from sklearn.svm import SVR"
   ]
  },
  {
   "cell_type": "code",
   "execution_count": null,
   "metadata": {},
   "outputs": [],
   "source": [
    "df=pd.read_csv(\"Hitters.csv\")\n",
    "df=df.dropna()\n",
    "dms=pd.get_dummies(df[[\"League\",\"Division\",\"NewLeague\"]])#kategorik verileri nümeriğe çevirdik\n",
    "y=df[\"Salary\"]\n",
    "X_=df.drop([\"Salary\",\"League\",\"Division\",\"NewLeague\"],axis=1)#indexlerden null olanları silmek\n",
    "X=pd.concat([X_,dms[[\"League_N\",\"Division_W\",\"NewLeague_N\"]]],axis=1)\n",
    "X_train,X_test,y_train,y_test=train_test_split(X,y,test_size=0.25,random_state=42)"
   ]
  },
  {
   "cell_type": "code",
   "execution_count": null,
   "metadata": {},
   "outputs": [],
   "source": [
    "X_train=pd.DataFrame(X_train(\"Hits\"))\n",
    "X_test=pd.DataFrame(X_test(\"Hits\"))\n",
    "cart_model=DecisionTreeRegressor()\n",
    "cart_model.fit(X_train,y_train)"
   ]
  }
 ],
 "metadata": {
  "kernelspec": {
   "display_name": "Python 3.10.7 64-bit",
   "language": "python",
   "name": "python3"
  },
  "language_info": {
   "name": "python",
   "version": "3.10.7"
  },
  "orig_nbformat": 4,
  "vscode": {
   "interpreter": {
    "hash": "694b30b78a0f9ee6468ff63ae8bc281eebfaa5f5677d8f8b6c6a215cacf47117"
   }
  }
 },
 "nbformat": 4,
 "nbformat_minor": 2
}
