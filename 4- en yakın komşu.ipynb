{
 "cells": [
  {
   "cell_type": "markdown",
   "metadata": {},
   "source": [
    "# K En Yakın Komşu\n",
    "* Gözlemlerin birbirine olan benzerlikleri üzerinden tahmin yapılır\n",
    "* sınıflandırma yada regresyon için ideal bir algoritmadır\n",
    "* parametrik olmayan öğrenme türüdür\n",
    "* büyük verilerle uğraşırken verimsiz ancak uygulamada kolay bir algoritmadır\n",
    "* temeli gözlem birimlerinin birbirlerine olan benzerlikleri üzerinden tahmin yapmaya dayanır\n",
    "## çalışma mantığı:\n",
    "* bir veriyi tahmin ederken diğer verilerle olan benzerliklerikullanarak sonuç oluşturur\n",
    "* öklid yada benzeri bir uzaklık hesabı ile her bir gözleme uzaklık hesaplanır\n",
    "* mesela en benzer 5 inin ortalamaısnı alıp atamak "
   ]
  },
  {
   "cell_type": "code",
   "execution_count": 11,
   "metadata": {},
   "outputs": [],
   "source": [
    "import numpy as np\n",
    "import pandas as pd\n",
    "import matplotlib.pyplot as plt\n",
    "from sklearn.model_selection import train_test_split,GridSearchCV\n",
    "from sklearn.metrics import mean_squared_error\n",
    "from sklearn.preprocessing import scale\n",
    "from sklearn.preprocessing import StandardScaler\n",
    "from sklearn import model_selection\n",
    "from sklearn.linear_model import LinearRegression\n",
    "from sklearn.tree import DecisionTreeRegressor\n",
    "from sklearn.neighbors import KNeighborsRegressor\n",
    "from sklearn.neural_network import MLPRegressor\n",
    "from sklearn.ensemble import RandomForestRegressor\n",
    "from sklearn.ensemble import GradientBoostingClassifier\n",
    "from sklearn import neighbors\n",
    "from sklearn.svm import SVR"
   ]
  },
  {
   "cell_type": "markdown",
   "metadata": {},
   "source": [
    "# veri seti"
   ]
  },
  {
   "cell_type": "code",
   "execution_count": 12,
   "metadata": {},
   "outputs": [],
   "source": [
    "\n",
    "df=pd.read_csv(\"Hitters.csv\")\n",
    "df=df.dropna()\n",
    "dms=pd.get_dummies(df[[\"League\",\"Division\",\"NewLeague\"]])#kategorik verileri nümeriğe çevirdik\n",
    "y=df[\"Salary\"]\n",
    "X_=df.drop([\"Salary\",\"League\",\"Division\",\"NewLeague\"],axis=1)#indexlerden null olanları silmek\n",
    "X=pd.concat([X_,dms[[\"League_N\",\"Division_W\",\"NewLeague_N\"]]],axis=1)\n",
    "X_train,X_test,y_train,y_test=train_test_split(X,y,test_size=0.25,random_state=42)\n"
   ]
  },
  {
   "cell_type": "markdown",
   "metadata": {},
   "source": [
    "# model"
   ]
  },
  {
   "cell_type": "code",
   "execution_count": 14,
   "metadata": {},
   "outputs": [
    {
     "data": {
      "text/plain": [
       "5"
      ]
     },
     "execution_count": 14,
     "metadata": {},
     "output_type": "execute_result"
    }
   ],
   "source": [
    "knn_model=KNeighborsRegressor().fit(X_train,y_train)\n",
    "knn_model.n_neighbors# en yakın 5 tanesine göre operasyon yapar"
   ]
  },
  {
   "cell_type": "code",
   "execution_count": 15,
   "metadata": {},
   "outputs": [
    {
     "data": {
      "text/plain": [
       "'minkowski'"
      ]
     },
     "execution_count": 15,
     "metadata": {},
     "output_type": "execute_result"
    }
   ],
   "source": [
    "knn_model.metric#metriği gösterttirir"
   ]
  },
  {
   "cell_type": "markdown",
   "metadata": {},
   "source": [
    "* daha fazlası için \"dir(knn_model)\" yazabiliriz"
   ]
  },
  {
   "cell_type": "code",
   "execution_count": 17,
   "metadata": {},
   "outputs": [],
   "source": [
    "y_pred=knn_model.predict(X_test)#tahmin yaptırttırdık"
   ]
  },
  {
   "cell_type": "code",
   "execution_count": 18,
   "metadata": {},
   "outputs": [
    {
     "data": {
      "text/plain": [
       "426.6570764525201"
      ]
     },
     "execution_count": 18,
     "metadata": {},
     "output_type": "execute_result"
    }
   ],
   "source": [
    "np.sqrt(mean_squared_error(y_test,y_pred))#hata karekökü\n",
    "KNeighborsRegressor(n_neighbors=k).fit(X_train,y_train) #n_neighbors ile komşu sayısını değiştirebiliriz\n"
   ]
  },
  {
   "cell_type": "code",
   "execution_count": 19,
   "metadata": {},
   "outputs": [
    {
     "name": "stdout",
     "output_type": "stream",
     "text": [
      "1 455.03925390751965\n",
      "2 415.99629571490965\n",
      "3 420.6765370082348\n",
      "4 428.8564674588792\n",
      "5 426.6570764525201\n",
      "6 423.5071669008732\n",
      "7 414.9361222421057\n",
      "8 413.7094731463598\n",
      "9 417.84419990871265\n",
      "10 421.6252180741266\n"
     ]
    }
   ],
   "source": [
    "RMSE=[]\n",
    "for k in range(10):\n",
    "    k=k+1\n",
    "    knn_model=KNeighborsRegressor(n_neighbors=k).fit(X_train,y_train)\n",
    "    y_pred=knn_model.predict(X_test)\n",
    "    rmse=np.sqrt(mean_squared_error(y_test,y_pred))\n",
    "    RMSE.append(rmse)\n",
    "    print(k,rmse)"
   ]
  },
  {
   "cell_type": "markdown",
   "metadata": {},
   "source": [
    "# GridSearchCV\n",
    "* Makine öğrenmesindeki hiper parametreleri belirlemek için kullanılan bir fonksiyondur"
   ]
  },
  {
   "cell_type": "code",
   "execution_count": 22,
   "metadata": {},
   "outputs": [],
   "source": [
    "knn_params={\"n_neighbors\":np.arange(1,30,1)}# komşu değerleri olarak 1 den 30 a kadar olan sayıları ifade eder son rakam 2 olsaydı 1 den 30 a 2 nin katları olan sayılar gelirdi\n",
    "knn=KNeighborsRegressor()\n",
    "knncvmodel=GridSearchCV(knn,knn_params,cv=10).fit(X_train,y_train)#1. parantezdeki knn: alınan parametre, algoritma,knn_params:denenecek olan sözlük,cv: kaç farklı model yapısı için"
   ]
  }
 ],
 "metadata": {
  "kernelspec": {
   "display_name": "Python 3.10.7 64-bit",
   "language": "python",
   "name": "python3"
  },
  "language_info": {
   "codemirror_mode": {
    "name": "ipython",
    "version": 3
   },
   "file_extension": ".py",
   "mimetype": "text/x-python",
   "name": "python",
   "nbconvert_exporter": "python",
   "pygments_lexer": "ipython3",
   "version": "3.10.7 (tags/v3.10.7:6cc6b13, Sep  5 2022, 14:08:36) [MSC v.1933 64 bit (AMD64)]"
  },
  "orig_nbformat": 4,
  "vscode": {
   "interpreter": {
    "hash": "694b30b78a0f9ee6468ff63ae8bc281eebfaa5f5677d8f8b6c6a215cacf47117"
   }
  }
 },
 "nbformat": 4,
 "nbformat_minor": 2
}
